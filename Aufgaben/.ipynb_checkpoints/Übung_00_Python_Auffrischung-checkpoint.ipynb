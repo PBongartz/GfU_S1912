{
 "cells": [
  {
   "cell_type": "markdown",
   "metadata": {},
   "source": [
    "# Python"
   ]
  },
  {
   "cell_type": "markdown",
   "metadata": {},
   "source": [
    "## Rechnen"
   ]
  },
  {
   "cell_type": "markdown",
   "metadata": {},
   "source": [
    "### 1.1 Die Formel zur Umrechnung von Grad °F zu °C lautet: $°C = \\frac{5}{9} * (°F - 32)$. Schreiben Sie ein Program, das für jeden Wert in Fahrenheit den Wert in Celsius berechnet. Testen Sie es mit 100 °F."
   ]
  },
  {
   "cell_type": "code",
   "execution_count": 1,
   "metadata": {},
   "outputs": [
    {
     "name": "stdout",
     "output_type": "stream",
     "text": [
      "37.77777777777778\n"
     ]
    }
   ],
   "source": [
    "input = 100\n",
    "\n",
    "result = 5/9 * (input - 32)\n",
    "\n",
    "print(result)"
   ]
  },
  {
   "cell_type": "markdown",
   "metadata": {},
   "source": [
    "### 1.2 Die Formel zur Umrechnung von Grad Celsius zu Kelvin lautet: $ K = °C + 273,15$. Schreiben sie nun ein Program das beide Formeln verbindet und Fahrenheit in Kelvin umwandelt. Wie viel Kelvin sind 100 Fahrenheit?"
   ]
  },
  {
   "cell_type": "code",
   "execution_count": 2,
   "metadata": {},
   "outputs": [],
   "source": [
    "kelvin = result + 273.15"
   ]
  },
  {
   "cell_type": "code",
   "execution_count": 3,
   "metadata": {},
   "outputs": [
    {
     "name": "stdout",
     "output_type": "stream",
     "text": [
      "310.92777777777775\n"
     ]
    }
   ],
   "source": [
    "print(kelvin)"
   ]
  },
  {
   "cell_type": "code",
   "execution_count": 4,
   "metadata": {},
   "outputs": [
    {
     "data": {
      "text/plain": [
       "310.92777777777775"
      ]
     },
     "execution_count": 4,
     "metadata": {},
     "output_type": "execute_result"
    }
   ],
   "source": [
    "kelvin"
   ]
  },
  {
   "cell_type": "markdown",
   "id": "367b446d",
   "metadata": {},
   "source": [
    "## Typenkonvertierung"
   ]
  },
  {
   "cell_type": "markdown",
   "id": "a8f740ac-6bb5-4ffc-8678-aa75c4cc0b61",
   "metadata": {},
   "source": [
    "### 2. Versuchen Sie die folgenden Elemente mit `int()` in Integer umzuwandeln. Denken Sie am besten erst darüber nach was passieren wird und testen dann ob Sie richtig lagen."
   ]
  },
  {
   "cell_type": "markdown",
   "metadata": {},
   "source": [
    "### 2.1"
   ]
  },
  {
   "cell_type": "code",
   "execution_count": null,
   "id": "cd4139bf-25b7-4d22-99d6-43a9c8c6159a",
   "metadata": {},
   "outputs": [],
   "source": [
    "print(int(2.0))"
   ]
  },
  {
   "cell_type": "markdown",
   "metadata": {},
   "source": [
    "### 2.2"
   ]
  },
  {
   "cell_type": "code",
   "execution_count": null,
   "id": "d3ea4574-498d-44f9-be2e-8cfd36623ae7",
   "metadata": {},
   "outputs": [],
   "source": [
    "print(int(2.3))"
   ]
  },
  {
   "cell_type": "markdown",
   "metadata": {},
   "source": [
    "### 2.3"
   ]
  },
  {
   "cell_type": "code",
   "execution_count": null,
   "id": "b933d410-63aa-4ebb-88ed-237559252afa",
   "metadata": {},
   "outputs": [],
   "source": [
    "print(int(2.7))"
   ]
  },
  {
   "cell_type": "markdown",
   "metadata": {},
   "source": [
    "### 2.4"
   ]
  },
  {
   "cell_type": "code",
   "execution_count": null,
   "id": "e9170209-4e9e-48d8-9ef9-0f8d90de6e06",
   "metadata": {},
   "outputs": [],
   "source": [
    "print(int(2e10))"
   ]
  },
  {
   "cell_type": "markdown",
   "metadata": {},
   "source": [
    "### 2.5"
   ]
  },
  {
   "cell_type": "code",
   "execution_count": null,
   "id": "f385caf5-303d-4bc4-aeff-3c31eb97e9e3",
   "metadata": {},
   "outputs": [],
   "source": [
    "print(int(2e-1))"
   ]
  },
  {
   "cell_type": "markdown",
   "metadata": {},
   "source": [
    "### 2.6"
   ]
  },
  {
   "cell_type": "code",
   "execution_count": null,
   "id": "f18bc66c-c3ff-4630-9835-252b747a3e4a",
   "metadata": {},
   "outputs": [],
   "source": [
    "print(int(\"10\"))"
   ]
  },
  {
   "cell_type": "markdown",
   "metadata": {},
   "source": [
    "### 2.7"
   ]
  },
  {
   "cell_type": "code",
   "execution_count": null,
   "id": "23c4a945-0bfd-43f1-a217-c7f5ece727e7",
   "metadata": {},
   "outputs": [],
   "source": [
    "print(int(\"10.0\"))"
   ]
  },
  {
   "cell_type": "markdown",
   "metadata": {},
   "source": [
    "### 2.8"
   ]
  },
  {
   "cell_type": "code",
   "execution_count": null,
   "id": "f3ece999-feb7-4432-b2b2-770a2adbc808",
   "metadata": {},
   "outputs": [],
   "source": [
    "print(int([1]))"
   ]
  },
  {
   "cell_type": "markdown",
   "metadata": {},
   "source": [
    "### 2.9"
   ]
  },
  {
   "cell_type": "code",
   "execution_count": 6,
   "id": "a61aaef3-4992-44e0-8701-6c6d78fd83b1",
   "metadata": {},
   "outputs": [
    {
     "name": "stdout",
     "output_type": "stream",
     "text": [
      "1\n"
     ]
    }
   ],
   "source": [
    "print(int((1)))"
   ]
  },
  {
   "cell_type": "markdown",
   "metadata": {},
   "source": [
    "### 2.10"
   ]
  },
  {
   "cell_type": "code",
   "execution_count": 7,
   "id": "263c6af2-8adb-4a0a-9960-08ffc5335009",
   "metadata": {},
   "outputs": [
    {
     "ename": "TypeError",
     "evalue": "int() argument must be a string, a bytes-like object or a real number, not 'tuple'",
     "output_type": "error",
     "traceback": [
      "\u001b[0;31m---------------------------------------------------------------------------\u001b[0m",
      "\u001b[0;31mTypeError\u001b[0m                                 Traceback (most recent call last)",
      "Cell \u001b[0;32mIn [7], line 1\u001b[0m\n\u001b[0;32m----> 1\u001b[0m \u001b[39mprint\u001b[39m(\u001b[39mint\u001b[39;49m((\u001b[39m1\u001b[39;49m,)))\n",
      "\u001b[0;31mTypeError\u001b[0m: int() argument must be a string, a bytes-like object or a real number, not 'tuple'"
     ]
    }
   ],
   "source": [
    "print(int((1,)))"
   ]
  },
  {
   "cell_type": "markdown",
   "metadata": {},
   "source": [
    "### 2.11"
   ]
  },
  {
   "cell_type": "code",
   "execution_count": 8,
   "id": "41debbb3-2841-4688-9e86-5650b4c88232",
   "metadata": {},
   "outputs": [
    {
     "name": "stdout",
     "output_type": "stream",
     "text": [
      "1\n"
     ]
    }
   ],
   "source": [
    "print(int(True))"
   ]
  },
  {
   "cell_type": "markdown",
   "metadata": {},
   "source": [
    "### 2.12"
   ]
  },
  {
   "cell_type": "code",
   "execution_count": 9,
   "id": "f0bd121a-24c5-4900-9e0d-210afbaeb262",
   "metadata": {},
   "outputs": [
    {
     "name": "stdout",
     "output_type": "stream",
     "text": [
      "0\n"
     ]
    }
   ],
   "source": [
    "print(int(False))"
   ]
  },
  {
   "cell_type": "markdown",
   "id": "6818389a-3492-4614-9a77-4bdbdba8082c",
   "metadata": {},
   "source": [
    "### 3. Versuchen Sie jetzt das gleiche mit den folgenden Elementen, aber konvertieren Sie sie dieses mal zu Dezimalzahlen (floats) mit `float()`."
   ]
  },
  {
   "cell_type": "markdown",
   "metadata": {},
   "source": [
    "### 3.1"
   ]
  },
  {
   "cell_type": "code",
   "execution_count": null,
   "id": "db4735cf-2929-4554-9587-81ab3f368d3f",
   "metadata": {},
   "outputs": [],
   "source": [
    "print(float(2))"
   ]
  },
  {
   "cell_type": "markdown",
   "metadata": {},
   "source": [
    "### 3.2"
   ]
  },
  {
   "cell_type": "code",
   "execution_count": null,
   "id": "ffe3e5cf-8d50-46bb-a7de-648365c039b9",
   "metadata": {},
   "outputs": [],
   "source": [
    "print(float(\"10\"))"
   ]
  },
  {
   "cell_type": "markdown",
   "metadata": {},
   "source": [
    "### 3.3"
   ]
  },
  {
   "cell_type": "code",
   "execution_count": 10,
   "id": "6e520061-3dd3-4290-9ed3-26abd240a215",
   "metadata": {},
   "outputs": [
    {
     "name": "stdout",
     "output_type": "stream",
     "text": [
      "1.5\n"
     ]
    }
   ],
   "source": [
    "print(float(\"1.5\"))"
   ]
  },
  {
   "cell_type": "markdown",
   "metadata": {},
   "source": [
    "### 3.4"
   ]
  },
  {
   "cell_type": "code",
   "execution_count": null,
   "id": "8efa816c-315b-4c4b-b115-c7a6215920f7",
   "metadata": {},
   "outputs": [],
   "source": [
    "print(float(True))\n",
    "print(float(True))"
   ]
  },
  {
   "cell_type": "markdown",
   "metadata": {},
   "source": [
    "## If Else Statements"
   ]
  },
  {
   "cell_type": "markdown",
   "id": "900284a1",
   "metadata": {},
   "source": [
    "### 4. Schreiben Sie ein if-else Statement das zwei Variablen `a` und `b` vergleicht die beide eine Zahl enthalten. Die größere der beiden Zahlen soll ausgegeben werden mit dem Text '{Zahl} ist größer'. Für den Fall, dass beide gleich groß sind, soll 'Beide Zahlen sind gleich groß' ausgegeben werden. "
   ]
  },
  {
   "cell_type": "code",
   "execution_count": 12,
   "metadata": {},
   "outputs": [],
   "source": [
    "a = 1\n",
    "b = 2"
   ]
  },
  {
   "cell_type": "code",
   "execution_count": 13,
   "metadata": {},
   "outputs": [
    {
     "name": "stdout",
     "output_type": "stream",
     "text": [
      "b ist größer\n"
     ]
    }
   ],
   "source": [
    "if a > b:\n",
    "    print(f\"a ist größer\")\n",
    "elif b > a:\n",
    "    print(f\"b ist größer\")\n",
    "else:\n",
    "    print(\"beide sind gleich groß\")"
   ]
  },
  {
   "cell_type": "markdown",
   "metadata": {},
   "source": [
    "## Listen, Loops und `range` Funktion"
   ]
  },
  {
   "cell_type": "markdown",
   "id": "2e42db5f-018c-4d5d-96c2-8ec94de0e58c",
   "metadata": {},
   "source": [
    "### 5. Schreiben Sie eine Liste (das Python-Objekt Liste!), welche die Jahre von ihrem Geburtsjahr bis 2022 enthält."
   ]
  },
  {
   "cell_type": "code",
   "execution_count": 17,
   "metadata": {},
   "outputs": [
    {
     "name": "stdout",
     "output_type": "stream",
     "text": [
      "[1993, 1995, 1997, 1999, 2001, 2003, 2005, 2007, 2009, 2011, 2013, 2015, 2017, 2019, 2021]\n"
     ]
    }
   ],
   "source": [
    "lst = [*range(1993, 2023, 2)]\n",
    "\n",
    "print(lst)"
   ]
  },
  {
   "cell_type": "code",
   "execution_count": 16,
   "metadata": {},
   "outputs": [
    {
     "name": "stdout",
     "output_type": "stream",
     "text": [
      "[1993, 1994, 1995, 1996, 1997, 1998, 1999, 2000, 2001, 2002, 2003, 2004, 2005, 2006, 2007, 2008, 2009, 2010, 2011, 2012, 2013, 2014, 2015, 2016, 2017, 2018, 2019, 2020, 2021, 2022]\n"
     ]
    }
   ],
   "source": [
    "print(list(range(1993, 2023)))"
   ]
  },
  {
   "cell_type": "markdown",
   "id": "1bd68370-be1e-49e8-82d3-2b5f3a68d7ff",
   "metadata": {},
   "source": [
    "### 6. Schreiben Sie einen for-Loop der die Zahlenpaare innerhalb der Tuples in `pair_list` miteinander multipliziert und danach ausgiebt. Versuchen Sie dabei Indexierung (Auswahl der Elemente einer Sequenz auf diese weiße: Sequenz[index]) zu vermeiden."
   ]
  },
  {
   "cell_type": "code",
   "execution_count": 23,
   "metadata": {},
   "outputs": [],
   "source": [
    "pair_list = [(1, 2), (3, 7), (9, 5)]\n"
   ]
  },
  {
   "cell_type": "code",
   "execution_count": 26,
   "metadata": {},
   "outputs": [
    {
     "name": "stdout",
     "output_type": "stream",
     "text": [
      "1 2\n",
      "3 7\n",
      "9 5\n"
     ]
    }
   ],
   "source": [
    "for tuple in pair_list:\n",
    "    print(tuple[0], tuple[1])"
   ]
  },
  {
   "cell_type": "markdown",
   "metadata": {},
   "source": [
    "## Dictionaries"
   ]
  },
  {
   "cell_type": "markdown",
   "id": "043f450a",
   "metadata": {},
   "source": [
    "### 7. Erstellen Sie ein dictionary `customers` mit den folgenden Keys: \n",
    "### `'customer_id', 'employment_status', 'age', 'location'`  \n",
    "### und den folgenden entsprechenden Values:\n",
    "###  `[12, 56, 2], [0, 1, 1], [22, 43, 31], ['Berlin', 'Cologne', 'Hamburg']`."
   ]
  },
  {
   "cell_type": "code",
   "execution_count": null,
   "metadata": {},
   "outputs": [],
   "source": [
    "'customer_id', 'employment_status', 'age', 'location'\n",
    "\n",
    "[12, 56, 2], [0, 1, 1], [22, 43, 31], ['Berlin', 'Cologne', 'Hamburg']\n",
    "\n"
   ]
  },
  {
   "cell_type": "code",
   "execution_count": 27,
   "metadata": {},
   "outputs": [],
   "source": [
    "customers = {'customer_id': [12, 56, 2], 'employment_status':[0, 1, 1], 'age': [22, 43, 31], 'location': ['Berlin', 'Cologne', 'Hamburg']}"
   ]
  },
  {
   "cell_type": "code",
   "execution_count": 31,
   "metadata": {},
   "outputs": [],
   "source": [
    "empty = {}\n",
    "\n",
    "empty[\"customer_id\"] = [12, 56, 2]\n",
    "empty['employment_status'] = [0, 1, 1]"
   ]
  },
  {
   "cell_type": "code",
   "execution_count": 33,
   "metadata": {},
   "outputs": [],
   "source": [
    "empty[\"customer_id\"] = [None, None, None]"
   ]
  },
  {
   "cell_type": "code",
   "execution_count": 34,
   "metadata": {},
   "outputs": [
    {
     "data": {
      "text/plain": [
       "{'customer_id': [None, None, None], 'employment_status': [0, 1, 1]}"
      ]
     },
     "execution_count": 34,
     "metadata": {},
     "output_type": "execute_result"
    }
   ],
   "source": [
    "empty"
   ]
  }
 ],
 "metadata": {
  "kernelspec": {
   "display_name": "Python 3.10.8 ('keras')",
   "language": "python",
   "name": "python3"
  },
  "language_info": {
   "codemirror_mode": {
    "name": "ipython",
    "version": 3
   },
   "file_extension": ".py",
   "mimetype": "text/x-python",
   "name": "python",
   "nbconvert_exporter": "python",
   "pygments_lexer": "ipython3",
   "version": "3.10.8"
  },
  "orig_nbformat": 4,
  "vscode": {
   "interpreter": {
    "hash": "0a0a1cc9e9b0dbd05119c0848171b247587deb98aaaf63fb2253b207ce9571f5"
   }
  }
 },
 "nbformat": 4,
 "nbformat_minor": 2
}
