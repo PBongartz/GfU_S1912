{
 "cells": [
  {
   "cell_type": "markdown",
   "metadata": {},
   "source": [
    "# Tensor Operationen"
   ]
  },
  {
   "cell_type": "markdown",
   "metadata": {},
   "source": [
    "## Tensoroperationen sind stark optimiert"
   ]
  },
  {
   "cell_type": "code",
   "execution_count": 1,
   "metadata": {},
   "outputs": [],
   "source": [
    "def naive_relu(x):\n",
    "    assert len(x.shape) == 2\n",
    "    x = x.copy()\n",
    "    for i in range(x.shape[0]):\n",
    "        for j in range(x.shape[1]): \n",
    "            x[i, j] = max(x[i, j], 0)\n",
    "    return x"
   ]
  },
  {
   "cell_type": "code",
   "execution_count": 2,
   "metadata": {},
   "outputs": [],
   "source": [
    "def naive_add(x, y):\n",
    "    assert len(x.shape) == 2 \n",
    "    assert x.shape == y.shape \n",
    "    x = x.copy()\n",
    "    for i in range(x.shape[0]):\n",
    "        for j in range(x.shape[1]): \n",
    "            x[i, j] += y[i, j]\n",
    "    return x"
   ]
  },
  {
   "cell_type": "code",
   "execution_count": 3,
   "metadata": {},
   "outputs": [],
   "source": [
    "import numpy as np \n",
    "\n",
    "x = np.random.random((20, 100)) \n",
    "y = np.random.random((20, 100)) \n",
    "\n"
   ]
  },
  {
   "cell_type": "code",
   "execution_count": 4,
   "metadata": {},
   "outputs": [
    {
     "name": "stdout",
     "output_type": "stream",
     "text": [
      "650 ns ± 13.8 ns per loop (mean ± std. dev. of 7 runs, 1,000,000 loops each)\n"
     ]
    }
   ],
   "source": [
    "%timeit z = x + y"
   ]
  },
  {
   "cell_type": "code",
   "execution_count": 5,
   "metadata": {},
   "outputs": [
    {
     "name": "stdout",
     "output_type": "stream",
     "text": [
      "342 µs ± 2.87 µs per loop (mean ± std. dev. of 7 runs, 1,000 loops each)\n"
     ]
    }
   ],
   "source": [
    "%timeit z = naive_add(x, y)"
   ]
  },
  {
   "cell_type": "code",
   "execution_count": 6,
   "metadata": {},
   "outputs": [
    {
     "name": "stdout",
     "output_type": "stream",
     "text": [
      "963 ns ± 6.51 ns per loop (mean ± std. dev. of 7 runs, 1,000,000 loops each)\n"
     ]
    }
   ],
   "source": [
    "z = x + y\n",
    "%timeit zz = np.maximum(z, 0.)"
   ]
  },
  {
   "cell_type": "code",
   "execution_count": 7,
   "metadata": {},
   "outputs": [
    {
     "name": "stdout",
     "output_type": "stream",
     "text": [
      "330 µs ± 456 ns per loop (mean ± std. dev. of 7 runs, 1,000 loops each)\n"
     ]
    }
   ],
   "source": [
    "%timeit zz = naive_relu(z)"
   ]
  },
  {
   "cell_type": "markdown",
   "metadata": {},
   "source": [
    "# Broadcasting Beispiel"
   ]
  },
  {
   "cell_type": "code",
   "execution_count": 8,
   "metadata": {},
   "outputs": [],
   "source": [
    "# Die Grundrechenarten und die Anwendung von Funktionen sind elementwise definiert\n",
    "x = np.random.random((64, 3, 32, 10)) \n",
    "y = np.random.random((32, 10))\n",
    "z = np.maximum(x, y)"
   ]
  },
  {
   "cell_type": "code",
   "execution_count": 9,
   "metadata": {},
   "outputs": [
    {
     "data": {
      "text/plain": [
       "(64, 3, 32, 10)"
      ]
     },
     "execution_count": 9,
     "metadata": {},
     "output_type": "execute_result"
    }
   ],
   "source": [
    "z.shape"
   ]
  },
  {
   "cell_type": "code",
   "execution_count": 10,
   "metadata": {},
   "outputs": [
    {
     "data": {
      "text/plain": [
       "array([[2.79241605e-01, 6.63112440e-01, 7.21100620e-01, 4.48137515e-01,\n",
       "        1.07964864e-03, 5.52536487e-01, 8.99336138e-01, 4.46693641e-01,\n",
       "        1.36642024e-01, 6.34035087e-01],\n",
       "       [7.34418015e-01, 9.75543884e-01, 4.80124234e-01, 5.60290228e-01,\n",
       "        6.31018627e-01, 5.41109198e-01, 2.34877449e-01, 1.95082430e-01,\n",
       "        2.28605312e-01, 3.31501697e-01],\n",
       "       [5.84781763e-01, 2.06269638e-01, 5.75747231e-01, 6.28299782e-01,\n",
       "        4.23520023e-01, 1.26483117e-01, 3.08064190e-01, 9.64734474e-01,\n",
       "        9.56100419e-02, 6.20856595e-01],\n",
       "       [1.47387915e-01, 1.22031242e-01, 8.40080916e-01, 2.14670577e-01,\n",
       "        5.61163683e-01, 6.57558938e-01, 4.54324696e-01, 7.97978732e-01,\n",
       "        5.90179146e-01, 7.42191942e-01],\n",
       "       [2.70825038e-01, 6.02004798e-01, 2.91386025e-01, 1.88674734e-01,\n",
       "        7.85257087e-01, 4.62233103e-01, 9.67463730e-01, 6.00906302e-01,\n",
       "        5.87890881e-01, 8.69659612e-01],\n",
       "       [4.19324593e-01, 8.79002143e-01, 9.49539741e-01, 5.39873295e-01,\n",
       "        5.82921353e-01, 2.05101944e-01, 8.49119823e-01, 9.57042851e-01,\n",
       "        5.53115982e-01, 2.02418566e-02],\n",
       "       [3.38855105e-01, 7.43764182e-01, 6.97932343e-01, 5.35726153e-01,\n",
       "        4.88908605e-01, 6.56145823e-01, 2.83171531e-01, 9.93561027e-01,\n",
       "        9.33053358e-01, 3.61090579e-01],\n",
       "       [1.09380756e-01, 3.55993600e-01, 4.62560874e-01, 8.94958836e-01,\n",
       "        3.74178477e-01, 6.38667804e-01, 6.04938428e-01, 1.97612810e-01,\n",
       "        9.46389878e-01, 1.58612329e-01],\n",
       "       [4.74948905e-01, 5.26594553e-01, 8.44175603e-01, 7.08242942e-01,\n",
       "        7.37307039e-02, 2.78400149e-01, 7.40240031e-01, 9.55233458e-01,\n",
       "        6.35062812e-01, 9.71576987e-01],\n",
       "       [8.19696801e-01, 4.83968590e-01, 5.71802111e-01, 9.29319750e-01,\n",
       "        2.85371984e-02, 8.54313590e-03, 3.94928392e-01, 6.00304919e-01,\n",
       "        9.65290281e-01, 3.04280301e-01],\n",
       "       [7.16922235e-01, 6.56170136e-01, 3.97689764e-01, 2.17231185e-01,\n",
       "        8.05121772e-01, 1.05419257e-01, 8.59836605e-01, 1.60693510e-01,\n",
       "        7.30198736e-02, 2.35040678e-01],\n",
       "       [6.87695905e-01, 2.51340796e-01, 5.37353540e-01, 5.47879126e-01,\n",
       "        1.31699022e-01, 8.43506086e-01, 7.94637755e-01, 5.44973614e-01,\n",
       "        1.37678920e-01, 7.32338958e-01],\n",
       "       [3.09890766e-01, 1.79221199e-02, 7.21814365e-01, 8.71761365e-01,\n",
       "        3.19735622e-01, 9.02833143e-01, 6.27765460e-01, 4.39321526e-01,\n",
       "        1.32903655e-01, 4.28899545e-02],\n",
       "       [9.59037543e-01, 5.58559019e-01, 6.82935626e-01, 1.59233116e-01,\n",
       "        1.44671353e-01, 8.44761778e-01, 3.90845284e-01, 6.67840969e-01,\n",
       "        3.55044998e-01, 6.91491737e-01],\n",
       "       [2.42195397e-01, 8.10576942e-01, 5.26955559e-01, 7.35392962e-01,\n",
       "        5.53995186e-01, 9.78991613e-01, 2.66286959e-01, 7.18268437e-01,\n",
       "        3.80609697e-02, 9.75139571e-01],\n",
       "       [2.86516833e-01, 3.18769683e-01, 3.46564700e-01, 4.08140115e-01,\n",
       "        1.83991078e-01, 9.06578606e-01, 3.27712221e-01, 9.54463121e-01,\n",
       "        6.88786613e-01, 5.39168910e-01],\n",
       "       [1.85073146e-02, 2.67648084e-01, 6.68008399e-01, 1.74390718e-01,\n",
       "        9.21008294e-01, 8.97879438e-01, 5.53453754e-01, 7.92709392e-01,\n",
       "        8.89820075e-01, 2.81536776e-01],\n",
       "       [1.06801153e-01, 1.28383645e-01, 5.00525098e-01, 9.08415539e-01,\n",
       "        7.37774813e-01, 2.59757865e-01, 6.84521070e-01, 5.67628947e-01,\n",
       "        6.51252656e-01, 6.49619953e-01],\n",
       "       [4.79384930e-01, 1.00532835e-01, 7.33269057e-01, 2.51439048e-01,\n",
       "        4.94934698e-01, 5.50188479e-01, 4.38610023e-01, 2.19225708e-01,\n",
       "        7.27467613e-01, 6.25310666e-01],\n",
       "       [9.15830801e-01, 7.34294842e-01, 4.28909600e-01, 4.99703658e-02,\n",
       "        6.63692872e-01, 4.38072531e-02, 9.57177778e-02, 7.30834575e-01,\n",
       "        4.81221876e-01, 1.84972184e-01],\n",
       "       [4.92180345e-01, 9.09461527e-01, 6.61420790e-01, 7.98918811e-01,\n",
       "        5.97550078e-01, 1.17982677e-01, 4.30230026e-01, 1.78226853e-01,\n",
       "        2.95459718e-01, 1.01862947e-01],\n",
       "       [3.56374014e-01, 1.62431863e-03, 3.03701329e-02, 2.18539500e-01,\n",
       "        2.90216300e-01, 6.71431438e-01, 9.81980076e-01, 1.81354089e-01,\n",
       "        8.59302702e-01, 1.74844637e-01],\n",
       "       [4.67015107e-01, 5.55057615e-02, 2.67019655e-01, 4.21176210e-02,\n",
       "        5.39923624e-01, 4.13253674e-01, 4.66858260e-01, 2.22982738e-01,\n",
       "        6.32882012e-01, 2.81708649e-01],\n",
       "       [3.44478818e-03, 4.28972279e-01, 1.91926948e-01, 9.66864554e-01,\n",
       "        3.84729099e-01, 2.02672059e-01, 6.83755750e-01, 7.69852287e-01,\n",
       "        4.45501520e-01, 8.17019941e-01],\n",
       "       [2.94234206e-02, 5.86512018e-01, 4.18343620e-01, 8.98867077e-02,\n",
       "        6.39779900e-01, 8.10104290e-01, 8.46657694e-01, 6.77403161e-01,\n",
       "        3.82104632e-01, 2.79161565e-01],\n",
       "       [1.47208220e-01, 5.15748853e-01, 4.99356276e-01, 8.74050779e-01,\n",
       "        3.71934040e-02, 2.90256405e-01, 5.24311665e-01, 1.76694641e-01,\n",
       "        5.19638315e-01, 2.29204782e-01],\n",
       "       [2.83054148e-01, 5.98481946e-01, 2.66319436e-01, 4.17713222e-02,\n",
       "        8.03896479e-01, 1.12098645e-01, 6.37137184e-01, 2.94486961e-01,\n",
       "        8.65550464e-01, 7.89946370e-01],\n",
       "       [8.54648477e-01, 6.74742901e-01, 4.51264386e-01, 5.30109668e-01,\n",
       "        3.60975703e-01, 7.82984391e-01, 8.46709848e-01, 1.88794889e-01,\n",
       "        7.11651196e-01, 7.80136761e-01],\n",
       "       [6.37709769e-01, 7.64593338e-01, 9.81113612e-01, 8.22436824e-02,\n",
       "        3.08536244e-01, 2.91394835e-01, 3.34259186e-04, 5.67197414e-01,\n",
       "        8.39252733e-01, 1.82514378e-02],\n",
       "       [1.81091644e-01, 5.55041063e-01, 1.91907623e-01, 7.32351276e-02,\n",
       "        7.50206789e-01, 6.87241474e-01, 8.87133817e-01, 6.45552728e-01,\n",
       "        4.72764980e-02, 4.95592162e-01],\n",
       "       [6.91081489e-01, 1.83746666e-01, 5.18702472e-01, 9.62952748e-01,\n",
       "        2.87575362e-01, 3.30122382e-01, 3.82144682e-01, 3.77759805e-01,\n",
       "        5.71895358e-03, 2.21508601e-01],\n",
       "       [6.05772212e-01, 8.35404396e-01, 7.16641239e-01, 8.17576275e-01,\n",
       "        8.24563957e-01, 8.89176698e-01, 5.60089389e-02, 2.26517254e-01,\n",
       "        5.19236278e-01, 5.22998684e-02]])"
      ]
     },
     "execution_count": 10,
     "metadata": {},
     "output_type": "execute_result"
    }
   ],
   "source": [
    "y"
   ]
  },
  {
   "cell_type": "markdown",
   "metadata": {},
   "source": [
    "# Dot Produkt"
   ]
  },
  {
   "cell_type": "code",
   "execution_count": 11,
   "metadata": {},
   "outputs": [],
   "source": [
    "x = np.random.random((32)) \n",
    "y = np.random.random((32)) \n",
    "z = np.dot(x, y)"
   ]
  },
  {
   "cell_type": "code",
   "execution_count": 12,
   "metadata": {},
   "outputs": [
    {
     "data": {
      "text/plain": [
       "()"
      ]
     },
     "execution_count": 12,
     "metadata": {},
     "output_type": "execute_result"
    }
   ],
   "source": [
    "z.shape"
   ]
  },
  {
   "cell_type": "code",
   "execution_count": 13,
   "metadata": {},
   "outputs": [],
   "source": [
    "x = np.random.random((1,32)) \n",
    "y = np.random.random((32,1)) \n",
    "z = np.dot(x, y)"
   ]
  },
  {
   "cell_type": "code",
   "execution_count": 14,
   "metadata": {},
   "outputs": [
    {
     "data": {
      "text/plain": [
       "array([[6.94961635]])"
      ]
     },
     "execution_count": 14,
     "metadata": {},
     "output_type": "execute_result"
    }
   ],
   "source": [
    "z"
   ]
  },
  {
   "cell_type": "code",
   "execution_count": 15,
   "metadata": {},
   "outputs": [],
   "source": [
    "# VORSICHT! MANCHE MENSCHEN MEINEN DOT-PRODUKT SOLLTE AUCH BEI MATRIZEN SKALAREN OUTPUT HABEN\n",
    "x = np.random.random((32,5)) \n",
    "y = np.random.random((5,32)) \n",
    "z = np.dot(x, y)"
   ]
  },
  {
   "cell_type": "code",
   "execution_count": 16,
   "metadata": {},
   "outputs": [
    {
     "data": {
      "text/plain": [
       "(32, 32)"
      ]
     },
     "execution_count": 16,
     "metadata": {},
     "output_type": "execute_result"
    }
   ],
   "source": [
    "z.shape"
   ]
  },
  {
   "cell_type": "code",
   "execution_count": 17,
   "metadata": {},
   "outputs": [
    {
     "data": {
      "text/plain": [
       "(9, 3, 4, 2)"
      ]
     },
     "execution_count": 17,
     "metadata": {},
     "output_type": "execute_result"
    }
   ],
   "source": [
    "x = np.random.random((9,3,4,8))\n",
    "y = np.random.random((8,2)) # aber (8,2,3) geht nicht.\n",
    "\n",
    "z = np.dot(x,y)\n",
    "z.shape"
   ]
  },
  {
   "cell_type": "code",
   "execution_count": 18,
   "metadata": {},
   "outputs": [
    {
     "data": {
      "text/plain": [
       "(3,)"
      ]
     },
     "execution_count": 18,
     "metadata": {},
     "output_type": "execute_result"
    }
   ],
   "source": [
    "x = np.array([1,2,3]) \n",
    "x.shape"
   ]
  },
  {
   "cell_type": "code",
   "execution_count": 19,
   "metadata": {},
   "outputs": [],
   "source": [
    "def naive_vector_dot(x, y):\n",
    "    assert len(x.shape) == 1 \n",
    "    assert len(y.shape) == 1 \n",
    "    assert x.shape[0] == y.shape[0] \n",
    "    \n",
    "    z = 0.\n",
    "    for i in range(x.shape[0]): \n",
    "        z += x[i] * y[i]\n",
    "    return z"
   ]
  },
  {
   "cell_type": "code",
   "execution_count": 20,
   "metadata": {},
   "outputs": [],
   "source": [
    "def naive_matrix_vector_dot(x, y): \n",
    "    assert len(x.shape) == 2 \n",
    "    assert len(y.shape) == 1 \n",
    "    assert x.shape[1] == y.shape[0] \n",
    "    \n",
    "    z = np.zeros(x.shape[0])\n",
    "    for i in range(x.shape[0]): \n",
    "        for j in range(x.shape[1]):\n",
    "            z[i] += x[i, j] * y[j]\n",
    "    return z"
   ]
  },
  {
   "cell_type": "markdown",
   "metadata": {},
   "source": [
    "# Übung\n",
    "* Benchmarken der beiden naiven \"vector_dot\"-Implementierungen vs Numpy\n",
    "* Wie ändert sich die Runtime mit der Dimensionalität des Inputs?"
   ]
  },
  {
   "cell_type": "code",
   "execution_count": 21,
   "metadata": {},
   "outputs": [
    {
     "data": {
      "text/plain": [
       "array([0.14933739, 0.97839583, 0.70210124, 0.42166439, 0.36462622,\n",
       "       0.97524218, 0.17871937, 0.98521216])"
      ]
     },
     "execution_count": 21,
     "metadata": {},
     "output_type": "execute_result"
    }
   ],
   "source": [
    "x = np.random.random((8))\n",
    "y = np.random.random((8)) # aber (8,2,3) geht nicht.\n",
    "len(x.shape)\n",
    "x"
   ]
  },
  {
   "cell_type": "code",
   "execution_count": 22,
   "metadata": {},
   "outputs": [
    {
     "name": "stdout",
     "output_type": "stream",
     "text": [
      "1.33 µs ± 9.33 ns per loop (mean ± std. dev. of 7 runs, 1,000,000 loops each)\n"
     ]
    }
   ],
   "source": [
    "%timeit z = naive_vector_dot(x, y)"
   ]
  },
  {
   "cell_type": "code",
   "execution_count": 23,
   "metadata": {},
   "outputs": [
    {
     "name": "stdout",
     "output_type": "stream",
     "text": [
      "433 ns ± 3.28 ns per loop (mean ± std. dev. of 7 runs, 1,000,000 loops each)\n"
     ]
    }
   ],
   "source": [
    "%timeit z = np.dot(x,y)"
   ]
  },
  {
   "cell_type": "code",
   "execution_count": null,
   "metadata": {},
   "outputs": [],
   "source": []
  },
  {
   "cell_type": "markdown",
   "metadata": {},
   "source": [
    "# Tensor Reshaping"
   ]
  },
  {
   "cell_type": "code",
   "execution_count": 24,
   "metadata": {},
   "outputs": [
    {
     "data": {
      "text/plain": [
       "(3, 2)"
      ]
     },
     "execution_count": 24,
     "metadata": {},
     "output_type": "execute_result"
    }
   ],
   "source": [
    "x = np.array([[0., 1.], \n",
    "              [2., 3.],\n",
    "              [4., 5.]])\n",
    "x.shape"
   ]
  },
  {
   "cell_type": "code",
   "execution_count": 25,
   "metadata": {},
   "outputs": [],
   "source": [
    "x = x.reshape((6, 1))"
   ]
  },
  {
   "cell_type": "code",
   "execution_count": 26,
   "metadata": {},
   "outputs": [
    {
     "data": {
      "text/plain": [
       "array([[0.],\n",
       "       [1.],\n",
       "       [2.],\n",
       "       [3.],\n",
       "       [4.],\n",
       "       [5.]])"
      ]
     },
     "execution_count": 26,
     "metadata": {},
     "output_type": "execute_result"
    }
   ],
   "source": [
    "x"
   ]
  },
  {
   "cell_type": "code",
   "execution_count": 27,
   "metadata": {},
   "outputs": [
    {
     "data": {
      "text/plain": [
       "array([[0., 1., 2.],\n",
       "       [3., 4., 5.]])"
      ]
     },
     "execution_count": 27,
     "metadata": {},
     "output_type": "execute_result"
    }
   ],
   "source": [
    "x = x.reshape((2,3))\n",
    "x"
   ]
  },
  {
   "cell_type": "code",
   "execution_count": 28,
   "metadata": {},
   "outputs": [
    {
     "data": {
      "text/plain": [
       "array([[0., 1.],\n",
       "       [2., 3.],\n",
       "       [4., 5.]])"
      ]
     },
     "execution_count": 28,
     "metadata": {},
     "output_type": "execute_result"
    }
   ],
   "source": [
    "x = x.reshape((3,2))\n",
    "x"
   ]
  },
  {
   "cell_type": "code",
   "execution_count": 29,
   "metadata": {},
   "outputs": [
    {
     "data": {
      "text/plain": [
       "array([[0., 2., 4.],\n",
       "       [1., 3., 5.]])"
      ]
     },
     "execution_count": 29,
     "metadata": {},
     "output_type": "execute_result"
    }
   ],
   "source": [
    "# Aber: transponieren ändert die Reihenfolge\n",
    "x = x.transpose()\n",
    "x"
   ]
  },
  {
   "cell_type": "code",
   "execution_count": 30,
   "metadata": {},
   "outputs": [
    {
     "data": {
      "text/plain": [
       "array([[0., 2.],\n",
       "       [4., 1.],\n",
       "       [3., 5.]])"
      ]
     },
     "execution_count": 30,
     "metadata": {},
     "output_type": "execute_result"
    }
   ],
   "source": [
    "x = x.reshape((3,2))\n",
    "x"
   ]
  },
  {
   "cell_type": "code",
   "execution_count": null,
   "metadata": {},
   "outputs": [],
   "source": []
  }
 ],
 "metadata": {
  "kernelspec": {
   "display_name": "Python 3 (ipykernel)",
   "language": "python",
   "name": "python3"
  },
  "language_info": {
   "codemirror_mode": {
    "name": "ipython",
    "version": 3
   },
   "file_extension": ".py",
   "mimetype": "text/x-python",
   "name": "python",
   "nbconvert_exporter": "python",
   "pygments_lexer": "ipython3",
   "version": "3.10.16"
  }
 },
 "nbformat": 4,
 "nbformat_minor": 4
}
