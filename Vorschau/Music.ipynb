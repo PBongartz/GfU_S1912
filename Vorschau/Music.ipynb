{
 "cells": [
  {
   "cell_type": "code",
   "execution_count": 48,
   "id": "bbb2ebcc-cbdf-450d-83a1-6c607052582b",
   "metadata": {},
   "outputs": [],
   "source": [
    "import librosa\n",
    "import pandas as pd\n",
    "import matplotlib.pyplot as plt\n",
    "import numpy as np"
   ]
  },
  {
   "cell_type": "markdown",
   "id": "d3bd69a0-45e2-4b89-a7bb-de324e1fb95e",
   "metadata": {},
   "source": [
    "Music Caps Datensatz unter anderem verfügbar über Kaggle:\n",
    "\n",
    "https://www.kaggle.com/datasets/googleai/musiccaps"
   ]
  },
  {
   "cell_type": "markdown",
   "id": "c6dc3179-ee26-4ddc-893c-f74282080d64",
   "metadata": {},
   "source": [
    "Librosa ist eine sehr nützliche Library zur Verarbeitung von Musikdaten\n",
    "\n",
    "https://librosa.org/doc/latest/sequence.html"
   ]
  },
  {
   "cell_type": "markdown",
   "id": "b9822993-9f79-47d7-a9e4-b140ede1610d",
   "metadata": {},
   "source": [
    "Andere Datensätze lassen sich zum Beispiel hier finden:\n",
    "\n",
    "https://paperswithcode.com/datasets\n",
    "\n",
    "https://www.kaggle.com/datasets/"
   ]
  },
  {
   "cell_type": "markdown",
   "id": "a5749107-31ee-415e-8790-91dcdc438f01",
   "metadata": {},
   "source": [
    "huggingface ist ein Model-Repository \n",
    "Viele Open Source Modelle zu verschiedensten Anwendungen\n",
    "Zum Beispiel ein Musicgeneration-Model YuE: https://huggingface.co/m-a-p/YuE-s1-7B-anneal-en-cot\n",
    "\n",
    "https://colab.research.google.com/drive/1FhH3HlN8Ps_Pr9OR6Qcfbfz7utDvICl0?usp=sharing#scrollTo=PhX8wJzIugkh"
   ]
  },
  {
   "cell_type": "code",
   "execution_count": 49,
   "id": "30cd30fb-5b63-4cc8-aa20-fbd9fe37548b",
   "metadata": {},
   "outputs": [
    {
     "name": "stdout",
     "output_type": "stream",
     "text": [
      "First 5 rows of the dataset:\n",
      "          ytid  start_s  end_s  \\\n",
      "0  -0Gj8-vB1q4       30     40   \n",
      "1  -0SdAVK79lg       30     40   \n",
      "2  -0vPFx-wRRI       30     40   \n",
      "3  -0xzrMun0Rs       30     40   \n",
      "4  -1LrH01Ei1w       30     40   \n",
      "\n",
      "                            audioset_positive_labels  \\\n",
      "0                       /m/0140xf,/m/02cjck,/m/04rlf   \n",
      "1  /m/0155w,/m/01lyv,/m/0342h,/m/042v_gx,/m/04rlf...   \n",
      "2                                /m/025_jnm,/m/04rlf   \n",
      "3                                 /m/01g90h,/m/04rlf   \n",
      "4                                /m/02p0sh1,/m/04rlf   \n",
      "\n",
      "                                         aspect_list  \\\n",
      "0  ['low quality', 'sustained strings melody', 's...   \n",
      "1  ['guitar song', 'piano backing', 'simple percu...   \n",
      "2  ['amateur recording', 'finger snipping', 'male...   \n",
      "3  ['backing track', 'jazzy', 'digital drums', 'p...   \n",
      "4  ['rubab instrument', 'repetitive melody on dif...   \n",
      "\n",
      "                                             caption  author_id  \\\n",
      "0  The low quality recording features a ballad so...          4   \n",
      "1  This song features an electric guitar as the m...          0   \n",
      "2  a male voice is singing a melody with changing...          6   \n",
      "3  This song contains digital drums playing a sim...          6   \n",
      "4  This song features a rubber instrument being p...          0   \n",
      "\n",
      "   is_balanced_subset  is_audioset_eval  \n",
      "0               False              True  \n",
      "1               False             False  \n",
      "2               False              True  \n",
      "3               False              True  \n",
      "4               False             False  \n",
      "\n",
      "Summary Statistics:\n",
      "           start_s        end_s    author_id\n",
      "count  5521.000000  5521.000000  5521.000000\n",
      "mean     89.100525    99.100525     4.867415\n",
      "std     110.234627   110.234627     2.835302\n",
      "min       0.000000    10.000000     0.000000\n",
      "25%      30.000000    40.000000     3.000000\n",
      "50%      30.000000    40.000000     4.000000\n",
      "75%     110.000000   120.000000     7.000000\n",
      "max     590.000000   600.000000     9.000000\n",
      "\n",
      "Data Information:\n",
      "<class 'pandas.core.frame.DataFrame'>\n",
      "RangeIndex: 5521 entries, 0 to 5520\n",
      "Data columns (total 9 columns):\n",
      " #   Column                    Non-Null Count  Dtype \n",
      "---  ------                    --------------  ----- \n",
      " 0   ytid                      5521 non-null   object\n",
      " 1   start_s                   5521 non-null   int64 \n",
      " 2   end_s                     5521 non-null   int64 \n",
      " 3   audioset_positive_labels  5521 non-null   object\n",
      " 4   aspect_list               5521 non-null   object\n",
      " 5   caption                   5521 non-null   object\n",
      " 6   author_id                 5521 non-null   int64 \n",
      " 7   is_balanced_subset        5521 non-null   bool  \n",
      " 8   is_audioset_eval          5521 non-null   bool  \n",
      "dtypes: bool(2), int64(3), object(4)\n",
      "memory usage: 312.8+ KB\n",
      "None\n"
     ]
    }
   ],
   "source": [
    "\n",
    "file_path = \"music_data/musiccaps-public.csv\"  \n",
    "\n",
    "try:\n",
    "    # Read the CSV file into a pandas DataFrame\n",
    "    df = pd.read_csv(file_path)\n",
    "\n",
    "    # Display the first few rows of the DataFrame to get an overview\n",
    "    print(\"First 5 rows of the dataset:\")\n",
    "    print(df.head())\n",
    "\n",
    "    # Optionally, display some summary statistics\n",
    "    print(\"\\nSummary Statistics:\")\n",
    "    print(df.describe())\n",
    "\n",
    "    # Optionally, display information about the DataFrame (data types, missing values)\n",
    "    print(\"\\nData Information:\")\n",
    "    print(df.info())\n",
    "\n",
    "\n",
    "except FileNotFoundError:\n",
    "    print(f\"Error: File not found at {file_path}.  Please check the file path.\")\n",
    "except Exception as e:\n",
    "    print(f\"An error occurred: {e}\")"
   ]
  },
  {
   "cell_type": "code",
   "execution_count": 50,
   "id": "bdcf867a-5f37-4e20-8fad-f8784da4e160",
   "metadata": {},
   "outputs": [
    {
     "data": {
      "text/plain": [
       "\"['low quality', 'sustained strings melody', 'soft female vocal', 'mellow piano melody', 'sad', 'soulful', 'ballad']\""
      ]
     },
     "execution_count": 50,
     "metadata": {},
     "output_type": "execute_result"
    }
   ],
   "source": [
    "df['aspect_list'][0]"
   ]
  },
  {
   "cell_type": "code",
   "execution_count": 51,
   "id": "90c4e0f9-69b4-445f-a957-a2cdb510a362",
   "metadata": {},
   "outputs": [
    {
     "data": {
      "text/html": [
       "<div>\n",
       "<style scoped>\n",
       "    .dataframe tbody tr th:only-of-type {\n",
       "        vertical-align: middle;\n",
       "    }\n",
       "\n",
       "    .dataframe tbody tr th {\n",
       "        vertical-align: top;\n",
       "    }\n",
       "\n",
       "    .dataframe thead th {\n",
       "        text-align: right;\n",
       "    }\n",
       "</style>\n",
       "<table border=\"1\" class=\"dataframe\">\n",
       "  <thead>\n",
       "    <tr style=\"text-align: right;\">\n",
       "      <th></th>\n",
       "      <th>ytid</th>\n",
       "      <th>start_s</th>\n",
       "      <th>end_s</th>\n",
       "      <th>audioset_positive_labels</th>\n",
       "      <th>aspect_list</th>\n",
       "      <th>caption</th>\n",
       "      <th>author_id</th>\n",
       "      <th>is_balanced_subset</th>\n",
       "      <th>is_audioset_eval</th>\n",
       "    </tr>\n",
       "  </thead>\n",
       "  <tbody>\n",
       "    <tr>\n",
       "      <th>0</th>\n",
       "      <td>-0Gj8-vB1q4</td>\n",
       "      <td>30</td>\n",
       "      <td>40</td>\n",
       "      <td>/m/0140xf,/m/02cjck,/m/04rlf</td>\n",
       "      <td>['low quality', 'sustained strings melody', 's...</td>\n",
       "      <td>The low quality recording features a ballad so...</td>\n",
       "      <td>4</td>\n",
       "      <td>False</td>\n",
       "      <td>True</td>\n",
       "    </tr>\n",
       "    <tr>\n",
       "      <th>1</th>\n",
       "      <td>-0SdAVK79lg</td>\n",
       "      <td>30</td>\n",
       "      <td>40</td>\n",
       "      <td>/m/0155w,/m/01lyv,/m/0342h,/m/042v_gx,/m/04rlf...</td>\n",
       "      <td>['guitar song', 'piano backing', 'simple percu...</td>\n",
       "      <td>This song features an electric guitar as the m...</td>\n",
       "      <td>0</td>\n",
       "      <td>False</td>\n",
       "      <td>False</td>\n",
       "    </tr>\n",
       "    <tr>\n",
       "      <th>2</th>\n",
       "      <td>-0vPFx-wRRI</td>\n",
       "      <td>30</td>\n",
       "      <td>40</td>\n",
       "      <td>/m/025_jnm,/m/04rlf</td>\n",
       "      <td>['amateur recording', 'finger snipping', 'male...</td>\n",
       "      <td>a male voice is singing a melody with changing...</td>\n",
       "      <td>6</td>\n",
       "      <td>False</td>\n",
       "      <td>True</td>\n",
       "    </tr>\n",
       "    <tr>\n",
       "      <th>3</th>\n",
       "      <td>-0xzrMun0Rs</td>\n",
       "      <td>30</td>\n",
       "      <td>40</td>\n",
       "      <td>/m/01g90h,/m/04rlf</td>\n",
       "      <td>['backing track', 'jazzy', 'digital drums', 'p...</td>\n",
       "      <td>This song contains digital drums playing a sim...</td>\n",
       "      <td>6</td>\n",
       "      <td>False</td>\n",
       "      <td>True</td>\n",
       "    </tr>\n",
       "    <tr>\n",
       "      <th>4</th>\n",
       "      <td>-1LrH01Ei1w</td>\n",
       "      <td>30</td>\n",
       "      <td>40</td>\n",
       "      <td>/m/02p0sh1,/m/04rlf</td>\n",
       "      <td>['rubab instrument', 'repetitive melody on dif...</td>\n",
       "      <td>This song features a rubber instrument being p...</td>\n",
       "      <td>0</td>\n",
       "      <td>False</td>\n",
       "      <td>False</td>\n",
       "    </tr>\n",
       "    <tr>\n",
       "      <th>...</th>\n",
       "      <td>...</td>\n",
       "      <td>...</td>\n",
       "      <td>...</td>\n",
       "      <td>...</td>\n",
       "      <td>...</td>\n",
       "      <td>...</td>\n",
       "      <td>...</td>\n",
       "      <td>...</td>\n",
       "      <td>...</td>\n",
       "    </tr>\n",
       "    <tr>\n",
       "      <th>5516</th>\n",
       "      <td>zw5dkiklbhE</td>\n",
       "      <td>15</td>\n",
       "      <td>25</td>\n",
       "      <td>/m/01sm1g,/m/0l14md</td>\n",
       "      <td>['amateur recording', 'percussion', 'wooden bo...</td>\n",
       "      <td>This audio contains someone playing a wooden b...</td>\n",
       "      <td>6</td>\n",
       "      <td>False</td>\n",
       "      <td>False</td>\n",
       "    </tr>\n",
       "    <tr>\n",
       "      <th>5517</th>\n",
       "      <td>zwfo7wnXdjs</td>\n",
       "      <td>30</td>\n",
       "      <td>40</td>\n",
       "      <td>/m/02p0sh1,/m/04rlf,/m/06j64v</td>\n",
       "      <td>['instrumental music', 'arabic music', 'genera...</td>\n",
       "      <td>The song is an instrumental. The song is mediu...</td>\n",
       "      <td>1</td>\n",
       "      <td>True</td>\n",
       "      <td>True</td>\n",
       "    </tr>\n",
       "    <tr>\n",
       "      <th>5518</th>\n",
       "      <td>zx_vcwOsDO4</td>\n",
       "      <td>50</td>\n",
       "      <td>60</td>\n",
       "      <td>/m/01glhc,/m/02sgy,/m/0342h,/m/03lty,/m/04rlf,...</td>\n",
       "      <td>['instrumental', 'no voice', 'electric guitar'...</td>\n",
       "      <td>The rock music is purely instrumental and feat...</td>\n",
       "      <td>2</td>\n",
       "      <td>True</td>\n",
       "      <td>True</td>\n",
       "    </tr>\n",
       "    <tr>\n",
       "      <th>5519</th>\n",
       "      <td>zyXa2tdBTGc</td>\n",
       "      <td>30</td>\n",
       "      <td>40</td>\n",
       "      <td>/m/04rlf,/t/dd00034</td>\n",
       "      <td>['instrumental music', 'gospel music', 'strong...</td>\n",
       "      <td>The song is an instrumental. The song is slow ...</td>\n",
       "      <td>1</td>\n",
       "      <td>False</td>\n",
       "      <td>False</td>\n",
       "    </tr>\n",
       "    <tr>\n",
       "      <th>5520</th>\n",
       "      <td>zzNdwF40ID8</td>\n",
       "      <td>70</td>\n",
       "      <td>80</td>\n",
       "      <td>/m/04rlf,/m/0790c</td>\n",
       "      <td>['glitch', 'noise', 'instrumental', 'electroni...</td>\n",
       "      <td>This is a glitch music piece. There is a synth...</td>\n",
       "      <td>9</td>\n",
       "      <td>True</td>\n",
       "      <td>True</td>\n",
       "    </tr>\n",
       "  </tbody>\n",
       "</table>\n",
       "<p>5521 rows × 9 columns</p>\n",
       "</div>"
      ],
      "text/plain": [
       "             ytid  start_s  end_s  \\\n",
       "0     -0Gj8-vB1q4       30     40   \n",
       "1     -0SdAVK79lg       30     40   \n",
       "2     -0vPFx-wRRI       30     40   \n",
       "3     -0xzrMun0Rs       30     40   \n",
       "4     -1LrH01Ei1w       30     40   \n",
       "...           ...      ...    ...   \n",
       "5516  zw5dkiklbhE       15     25   \n",
       "5517  zwfo7wnXdjs       30     40   \n",
       "5518  zx_vcwOsDO4       50     60   \n",
       "5519  zyXa2tdBTGc       30     40   \n",
       "5520  zzNdwF40ID8       70     80   \n",
       "\n",
       "                               audioset_positive_labels  \\\n",
       "0                          /m/0140xf,/m/02cjck,/m/04rlf   \n",
       "1     /m/0155w,/m/01lyv,/m/0342h,/m/042v_gx,/m/04rlf...   \n",
       "2                                   /m/025_jnm,/m/04rlf   \n",
       "3                                    /m/01g90h,/m/04rlf   \n",
       "4                                   /m/02p0sh1,/m/04rlf   \n",
       "...                                                 ...   \n",
       "5516                                /m/01sm1g,/m/0l14md   \n",
       "5517                      /m/02p0sh1,/m/04rlf,/m/06j64v   \n",
       "5518  /m/01glhc,/m/02sgy,/m/0342h,/m/03lty,/m/04rlf,...   \n",
       "5519                                /m/04rlf,/t/dd00034   \n",
       "5520                                  /m/04rlf,/m/0790c   \n",
       "\n",
       "                                            aspect_list  \\\n",
       "0     ['low quality', 'sustained strings melody', 's...   \n",
       "1     ['guitar song', 'piano backing', 'simple percu...   \n",
       "2     ['amateur recording', 'finger snipping', 'male...   \n",
       "3     ['backing track', 'jazzy', 'digital drums', 'p...   \n",
       "4     ['rubab instrument', 'repetitive melody on dif...   \n",
       "...                                                 ...   \n",
       "5516  ['amateur recording', 'percussion', 'wooden bo...   \n",
       "5517  ['instrumental music', 'arabic music', 'genera...   \n",
       "5518  ['instrumental', 'no voice', 'electric guitar'...   \n",
       "5519  ['instrumental music', 'gospel music', 'strong...   \n",
       "5520  ['glitch', 'noise', 'instrumental', 'electroni...   \n",
       "\n",
       "                                                caption  author_id  \\\n",
       "0     The low quality recording features a ballad so...          4   \n",
       "1     This song features an electric guitar as the m...          0   \n",
       "2     a male voice is singing a melody with changing...          6   \n",
       "3     This song contains digital drums playing a sim...          6   \n",
       "4     This song features a rubber instrument being p...          0   \n",
       "...                                                 ...        ...   \n",
       "5516  This audio contains someone playing a wooden b...          6   \n",
       "5517  The song is an instrumental. The song is mediu...          1   \n",
       "5518  The rock music is purely instrumental and feat...          2   \n",
       "5519  The song is an instrumental. The song is slow ...          1   \n",
       "5520  This is a glitch music piece. There is a synth...          9   \n",
       "\n",
       "      is_balanced_subset  is_audioset_eval  \n",
       "0                  False              True  \n",
       "1                  False             False  \n",
       "2                  False              True  \n",
       "3                  False              True  \n",
       "4                  False             False  \n",
       "...                  ...               ...  \n",
       "5516               False             False  \n",
       "5517                True              True  \n",
       "5518                True              True  \n",
       "5519               False             False  \n",
       "5520                True              True  \n",
       "\n",
       "[5521 rows x 9 columns]"
      ]
     },
     "execution_count": 51,
     "metadata": {},
     "output_type": "execute_result"
    }
   ],
   "source": [
    "df"
   ]
  },
  {
   "cell_type": "code",
   "execution_count": 52,
   "id": "d86ada43-1c79-4e84-8449-b8677e074add",
   "metadata": {},
   "outputs": [
    {
     "data": {
      "text/plain": [
       "0       -0Gj8-vB1q4\n",
       "1       -0SdAVK79lg\n",
       "2       -0vPFx-wRRI\n",
       "3       -0xzrMun0Rs\n",
       "4       -1LrH01Ei1w\n",
       "           ...     \n",
       "5516    zw5dkiklbhE\n",
       "5517    zwfo7wnXdjs\n",
       "5518    zx_vcwOsDO4\n",
       "5519    zyXa2tdBTGc\n",
       "5520    zzNdwF40ID8\n",
       "Name: ytid, Length: 5521, dtype: object"
      ]
     },
     "execution_count": 52,
     "metadata": {},
     "output_type": "execute_result"
    }
   ],
   "source": [
    "df.ytid"
   ]
  },
  {
   "cell_type": "code",
   "execution_count": 53,
   "id": "eb53493b-4c83-43bf-a61f-c8f8da791283",
   "metadata": {},
   "outputs": [],
   "source": [
    "def load_wav_by_ytid(ytid, wav_dir='music_data/music_data'):\n",
    "    \"\"\"\n",
    "    Loads a .wav file based on the ytid, returning the audio data as a numpy array.\n",
    "\n",
    "    Args:\n",
    "        ytid (str): The ytid from the CSV file (without .wav extension).\n",
    "        wav_dir (str):  The directory containing the .wav files.\n",
    "\n",
    "    Returns:\n",
    "        tuple: A tuple containing the audio data as a numpy array (sr,) or (None, None) if the file is not found.\n",
    "    \"\"\"\n",
    "    wav_file_name = f\"{ytid}.wav\"\n",
    "    wav_file_path = os.path.join(wav_dir, wav_file_name)  # Construct the full file path\n",
    "\n",
    "    try:\n",
    "        audio_data, sample_rate = librosa.load(wav_file_path, sr=None)  # sr=None keeps the original sampling rate\n",
    "        return audio_data, sample_rate\n",
    "    except FileNotFoundError:\n",
    "        print(f\"Warning: .wav file not found for ytid: {ytid} at {wav_file_path}\")\n",
    "        return None, None\n",
    "    except Exception as e:\n",
    "        print(f\"Error loading .wav file for ytid: {ytid} at {wav_file_path}: {e}\")\n",
    "        return None, None\n",
    "\n",
    "ytid = '_0-2meOf9qY'\n",
    "audio_data, sample_rate = load_wav_by_ytid(ytid)"
   ]
  },
  {
   "cell_type": "code",
   "execution_count": 54,
   "id": "11839ff6-ddac-4c48-827d-2084846b3eac",
   "metadata": {},
   "outputs": [
    {
     "data": {
      "text/plain": [
       "(958728,)"
      ]
     },
     "execution_count": 54,
     "metadata": {},
     "output_type": "execute_result"
    }
   ],
   "source": [
    "audio_data.shape"
   ]
  },
  {
   "cell_type": "code",
   "execution_count": 55,
   "id": "839e5eed-ec03-49da-bb1b-34abf8a8d8a2",
   "metadata": {},
   "outputs": [
    {
     "data": {
      "image/png": "[encoded data removed]",
      "text/plain": [
       "<Figure size 1200x400 with 1 Axes>"
      ]
     },
     "metadata": {},
     "output_type": "display_data"
    }
   ],
   "source": [
    "# Create a time axis for the plot\n",
    "\n",
    "time = np.arange(0, len(audio_data)) / sample_rate\n",
    "\n",
    "# Plot the audio data\n",
    "plt.figure(figsize=(12, 4))  # Adjust figure size for better readability\n",
    "plt.plot(time, audio_data)\n",
    "plt.xlabel(\"Time (s)\")\n",
    "plt.ylabel(\"Amplitude\")\n",
    "plt.title(f\"Audio Waveform for ytid: {ytid}\")  # More descriptive title\n",
    "plt.grid(True)  # Add a grid for easier reading\n",
    "plt.tight_layout()  # Adjust layout to prevent labels from overlapping\n",
    "plt.show()\n"
   ]
  },
  {
   "cell_type": "markdown",
   "id": "0fd76ef4-52bb-4268-a636-87cabfa6b9ba",
   "metadata": {},
   "source": [
    "### Feature Engineering"
   ]
  },
  {
   "cell_type": "code",
   "execution_count": 56,
   "id": "69febf64-ec38-4178-9ed3-8b432a20a28e",
   "metadata": {},
   "outputs": [
    {
     "name": "stdout",
     "output_type": "stream",
     "text": [
      "MFCCs shape: (20, 1873)\n",
      "First MFCC frame: [-580.299    0.       0.       0.       0.       0.       0.       0.\n",
      "    0.       0.       0.       0.       0.       0.       0.       0.\n",
      "    0.       0.       0.       0.   ]\n",
      "Delta MFCCs shape: (20, 1873)\n",
      "Delta-delta MFCCs shape: (20, 1873)\n"
     ]
    }
   ],
   "source": [
    "\n",
    "# Load audio file\n",
    "y, sr = librosa.load('music_data/music_data/_0-2meOf9qY.wav', sr=None)  # Replace \"audio.wav\" with your file\n",
    "\n",
    "# Extract MFCCs\n",
    "mfccs = librosa.feature.mfcc(y=y, sr=sr, n_mfcc=20)\n",
    "\n",
    "print(\"MFCCs shape:\", mfccs.shape)  # Output: (20, number of frames)\n",
    "print(\"First MFCC frame:\", mfccs[:, 0]) # first frame\n",
    "\n",
    "# You can further process the MFCCs, e.g., compute the delta (first derivative) and delta-delta (second derivative) features\n",
    "delta_mfccs = librosa.feature.delta(mfccs)\n",
    "delta2_mfccs = librosa.feature.delta(mfccs, order=2)\n",
    "\n",
    "print(\"Delta MFCCs shape:\", delta_mfccs.shape)\n",
    "print(\"Delta-delta MFCCs shape:\", delta2_mfccs.shape)"
   ]
  },
  {
   "cell_type": "code",
   "execution_count": 57,
   "id": "96481591-0489-438a-99a3-32ec8ce6809b",
   "metadata": {},
   "outputs": [
    {
     "data": {
      "text/plain": [
       "(12, 937)"
      ]
     },
     "execution_count": 57,
     "metadata": {},
     "output_type": "execute_result"
    }
   ],
   "source": [
    "\n",
    "# Load audio file\n",
    "y, sr = librosa.load('music_data/music_data/_0-2meOf9qY.wav', sr=None)\n",
    "\n",
    "# Calculate the MFCCs with a specified hop_length\n",
    "hop_length = 1024  # Example hop length\n",
    "mfccs = librosa.feature.mfcc(y=y, sr=sr, hop_length=hop_length, n_mfcc=12) #also specifying number of mfccs here\n",
    "mfccs.shape"
   ]
  },
  {
   "cell_type": "code",
   "execution_count": 58,
   "id": "a4062e92-a4f2-4501-9093-e10614e3948b",
   "metadata": {},
   "outputs": [
    {
     "data": {
      "image/png": "[encoded data removed]",
      "text/plain": [
       "<Figure size 1200x600 with 2 Axes>"
      ]
     },
     "metadata": {},
     "output_type": "display_data"
    }
   ],
   "source": [
    "plt.figure(figsize=(12, 6))  # Adjust figure size for better readability\n",
    "librosa.display.specshow(mfccs,\n",
    "                         sr=sr,\n",
    "                         hop_length=hop_length,\n",
    "                         x_axis='time',\n",
    "                         cmap='viridis')  # Use a colormap for better visualization\n",
    "plt.xlabel(\"Time (s)\")\n",
    "plt.ylabel(\"MFCC Coefficient\")\n",
    "plt.colorbar(label=\"MFCC Value\")  # Add a colorbar to show the MFCC values\n",
    "plt.title(\"MFCCs\")\n",
    "plt.tight_layout()  # Adjust layout to prevent labels from overlapping\n",
    "plt.show()\n"
   ]
  },
  {
   "cell_type": "code",
   "execution_count": null,
   "id": "a9a5e0cf-28bf-4d4e-8731-869caa2219cd",
   "metadata": {},
   "outputs": [],
   "source": []
  },
  {
   "cell_type": "code",
   "execution_count": null,
   "id": "16c20ae2-b695-4aff-ba1d-7d0b0f930abb",
   "metadata": {},
   "outputs": [],
   "source": []
  },
  {
   "cell_type": "code",
   "execution_count": null,
   "id": "2c753725-adb6-4c0c-9a65-4e144603b2cd",
   "metadata": {},
   "outputs": [],
   "source": []
  }
 ],
 "metadata": {
  "kernelspec": {
   "display_name": "gfu_s1912",
   "language": "python",
   "name": "gfu_s1912"
  },
  "language_info": {
   "codemirror_mode": {
    "name": "ipython",
    "version": 3
   },
   "file_extension": ".py",
   "mimetype": "text/x-python",
   "name": "python",
   "nbconvert_exporter": "python",
   "pygments_lexer": "ipython3",
   "version": "3.10.16"
  }
 },
 "nbformat": 4,
 "nbformat_minor": 5
}
